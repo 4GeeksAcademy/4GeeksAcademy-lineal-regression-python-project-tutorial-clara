{
    "cells": [
        {
            "cell_type": "markdown",
            "metadata": {},
            "source": [
                "# Proyecto de Regresión Lineal:"
            ]
        },
        {
            "cell_type": "code",
            "execution_count": 462,
            "metadata": {},
            "outputs": [],
            "source": [
                "# Librerías para evitar la aparición de muchos Warnings al final del proyecto:\n",
                "import warnings\n",
                "from sklearn.exceptions import ConvergenceWarning\n",
                "\n",
                "# Ignorar las advertencias de convergencia\n",
                "warnings.filterwarnings(\"ignore\", category=ConvergenceWarning);\n",
                "\n",
                "# Librería para la declaración y uso de Data Frames:\n",
                "import pandas as pd\n",
                "\n",
                "# Librería codificar variables categóricas a numéricas:\n",
                "from sklearn.preprocessing import LabelEncoder\n",
                "\n",
                "# Librería para generar un modelo de Regresión Lineal: \n",
                "import statsmodels.api as sm\n",
                "\n",
                "# Librería para realizar operaciones matemáticas: \n",
                "import numpy as np\n",
                "\n",
                "# Librería para poder realizar la partición del conjunto de datos:\n",
                "from sklearn.model_selection import train_test_split\n",
                "\n",
                "# Librería para generar un modelo XGBoost:\n",
                "import xgboost as xgb\n",
                "\n",
                "# Librería para calcular el VIF: \n",
                "from statsmodels.stats.outliers_influence import variance_inflation_factor\n",
                "\n",
                "# Librería para visualizar datos estadísticos: \n",
                "import seaborn as sns\n",
                "\n",
                "# Librería para utilizar un escalador normalizado: \n",
                "from sklearn.preprocessing import MinMaxScaler\n",
                "\n",
                "# Librería para obtener métricas del modelo:\n",
                "from sklearn.metrics import r2_score, mean_absolute_error\n"
            ]
        },
        {
            "cell_type": "markdown",
            "metadata": {},
            "source": [
                "## Paso 1 - Lectura de Datos:"
            ]
        },
        {
            "cell_type": "markdown",
            "metadata": {},
            "source": [
                "En primer lugar, es necesario **leer y guardar la información** en una variable para poder empezar a trabajar con ella.\n",
                "\n",
                "Para ello, se ha guaradado el archivo con todos los datos en la ruta: */workspaces/4GeeksAcademy-lineal-regression-python-project-tutorial-clara/data/raw/medical_insurance_cost.csv* y se ha cargado en un Data Frame:"
            ]
        },
        {
            "cell_type": "code",
            "execution_count": 463,
            "metadata": {},
            "outputs": [
                {
                    "data": {
                        "text/html": [
                            "<div>\n",
                            "<style scoped>\n",
                            "    .dataframe tbody tr th:only-of-type {\n",
                            "        vertical-align: middle;\n",
                            "    }\n",
                            "\n",
                            "    .dataframe tbody tr th {\n",
                            "        vertical-align: top;\n",
                            "    }\n",
                            "\n",
                            "    .dataframe thead th {\n",
                            "        text-align: right;\n",
                            "    }\n",
                            "</style>\n",
                            "<table border=\"1\" class=\"dataframe\">\n",
                            "  <thead>\n",
                            "    <tr style=\"text-align: right;\">\n",
                            "      <th></th>\n",
                            "      <th>age</th>\n",
                            "      <th>sex</th>\n",
                            "      <th>bmi</th>\n",
                            "      <th>children</th>\n",
                            "      <th>smoker</th>\n",
                            "      <th>region</th>\n",
                            "      <th>charges</th>\n",
                            "    </tr>\n",
                            "  </thead>\n",
                            "  <tbody>\n",
                            "    <tr>\n",
                            "      <th>0</th>\n",
                            "      <td>19</td>\n",
                            "      <td>female</td>\n",
                            "      <td>27.900</td>\n",
                            "      <td>0</td>\n",
                            "      <td>yes</td>\n",
                            "      <td>southwest</td>\n",
                            "      <td>16884.92400</td>\n",
                            "    </tr>\n",
                            "    <tr>\n",
                            "      <th>1</th>\n",
                            "      <td>18</td>\n",
                            "      <td>male</td>\n",
                            "      <td>33.770</td>\n",
                            "      <td>1</td>\n",
                            "      <td>no</td>\n",
                            "      <td>southeast</td>\n",
                            "      <td>1725.55230</td>\n",
                            "    </tr>\n",
                            "    <tr>\n",
                            "      <th>2</th>\n",
                            "      <td>28</td>\n",
                            "      <td>male</td>\n",
                            "      <td>33.000</td>\n",
                            "      <td>3</td>\n",
                            "      <td>no</td>\n",
                            "      <td>southeast</td>\n",
                            "      <td>4449.46200</td>\n",
                            "    </tr>\n",
                            "    <tr>\n",
                            "      <th>3</th>\n",
                            "      <td>33</td>\n",
                            "      <td>male</td>\n",
                            "      <td>22.705</td>\n",
                            "      <td>0</td>\n",
                            "      <td>no</td>\n",
                            "      <td>northwest</td>\n",
                            "      <td>21984.47061</td>\n",
                            "    </tr>\n",
                            "    <tr>\n",
                            "      <th>4</th>\n",
                            "      <td>32</td>\n",
                            "      <td>male</td>\n",
                            "      <td>28.880</td>\n",
                            "      <td>0</td>\n",
                            "      <td>no</td>\n",
                            "      <td>northwest</td>\n",
                            "      <td>3866.85520</td>\n",
                            "    </tr>\n",
                            "  </tbody>\n",
                            "</table>\n",
                            "</div>"
                        ],
                        "text/plain": [
                            "   age     sex     bmi  children smoker     region      charges\n",
                            "0   19  female  27.900         0    yes  southwest  16884.92400\n",
                            "1   18    male  33.770         1     no  southeast   1725.55230\n",
                            "2   28    male  33.000         3     no  southeast   4449.46200\n",
                            "3   33    male  22.705         0     no  northwest  21984.47061\n",
                            "4   32    male  28.880         0     no  northwest   3866.85520"
                        ]
                    },
                    "execution_count": 463,
                    "metadata": {},
                    "output_type": "execute_result"
                }
            ],
            "source": [
                "# Lectura del CSV con los datos, dada la ruta donde se guarda el archivo:\n",
                "df = pd.read_csv ('/workspaces/4GeeksAcademy-lineal-regression-python-project-tutorial-clara/data/raw/medical_insurance_cost.csv');\n",
                "\n",
                "# Configuración de pandas para mostrar todas las columnas del DataFrame sin truncarlas al visualizarlo\n",
                "pd.set_option('display.max_columns', None);\n",
                "\n",
                "# Se muestran las 5 primeras filas del Data Frame\n",
                "df.head()"
            ]
        },
        {
            "cell_type": "markdown",
            "metadata": {},
            "source": [
                "Una vez se ha cargado correctamente la información en el Data Frame df es interesante evaluar la **cantidad de información** que se tiene. Para ello, se recurre al atributo `.shape` del Data Frame:"
            ]
        },
        {
            "cell_type": "code",
            "execution_count": 464,
            "metadata": {},
            "outputs": [
                {
                    "name": "stdout",
                    "output_type": "stream",
                    "text": [
                        " El conjunto de datos cuenta con información de 1338 clientes con total de 7 características sobre ellos\n"
                    ]
                }
            ],
            "source": [
                "# Se utiliza el atributo shape del Data Frame para conocer cuánta información está cargada:\n",
                "print (f\" El conjunto de datos cuenta con información de {df.shape[0]} clientes con total de {df.shape[1]} características sobre ellos\");"
            ]
        },
        {
            "cell_type": "markdown",
            "metadata": {},
            "source": [
                "## Paso 2 - Análisis Exploratoio de Datos Básico:"
            ]
        },
        {
            "cell_type": "markdown",
            "metadata": {},
            "source": [
                "Antes de realizar un estudio de la **Regresión Lineal**, es fundamental llevar a acabo un **análisis de los datos **para poder identificar **patrones**, detectar **valores atípicos** y evaluar la distribución de las variables para comprender la **relación entre ellas**.\n",
                "\n",
                "Por este motivo, se van a realizar distintos pasos cuyo objetivo final es **preparar el conjunto de datos** para poder trabajar con ellos. Este EDA no se explicará tan en detalle como se hizo para el proyecto dedicado únicamente a ello pero se recomienda recurrir a él para explicaciones más detalladas:"
            ]
        },
        {
            "cell_type": "markdown",
            "metadata": {},
            "source": [
                "### Paso 2.1 - Análisis de Duplicados y Constantes:"
            ]
        },
        {
            "cell_type": "markdown",
            "metadata": {},
            "source": [
                "Uno de los puntos críticos a la hora de realizar un análisis, es la **existencia de variables / características comunes** a todos los condados, dado que sería **información redundante** y no aportaría valor al estudio, es decir, el análisis sería el mismo aunque no estuviesen como variables y, por lo tanto, se podría prescindir de ellas."
            ]
        },
        {
            "cell_type": "code",
            "execution_count": 465,
            "metadata": {},
            "outputs": [
                {
                    "name": "stdout",
                    "output_type": "stream",
                    "text": [
                        " Hay un total de 0 columnas en el Data Frame con un valor constante para todos los clientes\n",
                        " \n",
                        "Para cada columna del Data Frame, se muestran cuántos valores distintos presentan:\n"
                    ]
                },
                {
                    "data": {
                        "text/plain": [
                            "age           47\n",
                            "sex            2\n",
                            "bmi          548\n",
                            "children       6\n",
                            "smoker         2\n",
                            "region         4\n",
                            "charges     1337\n",
                            "dtype: int64"
                        ]
                    },
                    "execution_count": 465,
                    "metadata": {},
                    "output_type": "execute_result"
                }
            ],
            "source": [
                "# Se utiliza el método .nunique() para saber la cantidad de columnas con constantes en el Data Frame:\n",
                "print(f\" Hay un total de {(lambda df: (df.nunique() == 1).sum())(df)} columnas en el Data Frame con un valor constante para todos los clientes\");\n",
                "\n",
                "# Se imprime el conteo de valores distintos en cada columna:\n",
                "print (f\" \\nPara cada columna del Data Frame, se muestran cuántos valores distintos presentan:\");\n",
                "df.nunique()"
            ]
        },
        {
            "cell_type": "markdown",
            "metadata": {},
            "source": [
                "A partir del resultado obtenido, se puede observar que **no hay ninguna constante** en los datos cargados, por lo tanto, **no hay que eliminar ninguna columna**, de momento.\n",
                "\n",
                "Otro factor determinante a la hora de realizar una limpieza de los datos es detectar si hay **datos repetidos**, aplicado a este caso, si hay clientes duplicados."
            ]
        },
        {
            "cell_type": "code",
            "execution_count": 466,
            "metadata": {},
            "outputs": [
                {
                    "name": "stdout",
                    "output_type": "stream",
                    "text": [
                        " Hay un total de 1 clientes duplicados.\n"
                    ]
                }
            ],
            "source": [
                "# Se utiliza el método .duplicated() para identificar los clientes repetidos dentro del DataFrame:\n",
                "print(f\" Hay un total de {df.duplicated().sum()} clientes duplicados.\");"
            ]
        },
        {
            "cell_type": "markdown",
            "metadata": {},
            "source": [
                "Como se puede ver, se ha **detectado un cliente duplicado** en el conjunto de datos, por lo que se va a utilziar el método `.drop_duplicates()` para eliminarlo. "
            ]
        },
        {
            "cell_type": "code",
            "execution_count": 467,
            "metadata": {},
            "outputs": [
                {
                    "name": "stdout",
                    "output_type": "stream",
                    "text": [
                        " Tras la primera limpieza, se ha eliminado 1 cliente, quedando en el data set información de 1337 clientes con un total de 7 características para cada uno\n"
                    ]
                }
            ],
            "source": [
                "# Se elimina la fila duplicada del Data Frame:\n",
                "df_clean = df.drop_duplicates();\n",
                "\n",
                "# Se comprueba que se ha realizado el borrado correctamente:\n",
                "print (f\" Tras la primera limpieza, se ha eliminado {df.shape[0]- df_clean.shape[0]} cliente, quedando en el data set información de {df_clean.shape[0]} clientes con un total de {df_clean.shape[1]} características para cada uno\");"
            ]
        },
        {
            "cell_type": "markdown",
            "metadata": {},
            "source": [
                "## Paso 2.2 - Análisis Estadístico:"
            ]
        },
        {
            "cell_type": "markdown",
            "metadata": {},
            "source": [
                "Una vez ya se ha realizado un **estudio básico** para realizar una **primera limpieza** de datos, a partir del análisis de constantes y duplicados, se puede pasar a **observar estadísticamente la información** y decidir qué datos son poco relevantes.\n",
                "\n",
                "Para ello, en primer lugar, se va a recurrir al método `.describe()` para tener un **resumen estadístico** de todos los datos, tanto los categóricos como los numéricos.\n",
                "\n",
                "En este resumen, los puntos más interesantes son, por un lado, los **mínimos y los máximos** en las variables numéricas y el **top value y su frecuencia** para las variables categóricas."
            ]
        },
        {
            "cell_type": "code",
            "execution_count": 468,
            "metadata": {},
            "outputs": [
                {
                    "data": {
                        "text/html": [
                            "<div>\n",
                            "<style scoped>\n",
                            "    .dataframe tbody tr th:only-of-type {\n",
                            "        vertical-align: middle;\n",
                            "    }\n",
                            "\n",
                            "    .dataframe tbody tr th {\n",
                            "        vertical-align: top;\n",
                            "    }\n",
                            "\n",
                            "    .dataframe thead th {\n",
                            "        text-align: right;\n",
                            "    }\n",
                            "</style>\n",
                            "<table border=\"1\" class=\"dataframe\">\n",
                            "  <thead>\n",
                            "    <tr style=\"text-align: right;\">\n",
                            "      <th></th>\n",
                            "      <th>count</th>\n",
                            "      <th>unique</th>\n",
                            "      <th>top</th>\n",
                            "      <th>freq</th>\n",
                            "      <th>mean</th>\n",
                            "      <th>std</th>\n",
                            "      <th>min</th>\n",
                            "      <th>25%</th>\n",
                            "      <th>50%</th>\n",
                            "      <th>75%</th>\n",
                            "      <th>max</th>\n",
                            "    </tr>\n",
                            "  </thead>\n",
                            "  <tbody>\n",
                            "    <tr>\n",
                            "      <th>age</th>\n",
                            "      <td>1337.0</td>\n",
                            "      <td>NaN</td>\n",
                            "      <td>NaN</td>\n",
                            "      <td>NaN</td>\n",
                            "      <td>39.222139</td>\n",
                            "      <td>14.044333</td>\n",
                            "      <td>18.0</td>\n",
                            "      <td>27.0</td>\n",
                            "      <td>39.0</td>\n",
                            "      <td>51.0</td>\n",
                            "      <td>64.0</td>\n",
                            "    </tr>\n",
                            "    <tr>\n",
                            "      <th>sex</th>\n",
                            "      <td>1337</td>\n",
                            "      <td>2</td>\n",
                            "      <td>male</td>\n",
                            "      <td>675</td>\n",
                            "      <td>NaN</td>\n",
                            "      <td>NaN</td>\n",
                            "      <td>NaN</td>\n",
                            "      <td>NaN</td>\n",
                            "      <td>NaN</td>\n",
                            "      <td>NaN</td>\n",
                            "      <td>NaN</td>\n",
                            "    </tr>\n",
                            "    <tr>\n",
                            "      <th>bmi</th>\n",
                            "      <td>1337.0</td>\n",
                            "      <td>NaN</td>\n",
                            "      <td>NaN</td>\n",
                            "      <td>NaN</td>\n",
                            "      <td>30.663452</td>\n",
                            "      <td>6.100468</td>\n",
                            "      <td>15.96</td>\n",
                            "      <td>26.29</td>\n",
                            "      <td>30.4</td>\n",
                            "      <td>34.7</td>\n",
                            "      <td>53.13</td>\n",
                            "    </tr>\n",
                            "    <tr>\n",
                            "      <th>children</th>\n",
                            "      <td>1337.0</td>\n",
                            "      <td>NaN</td>\n",
                            "      <td>NaN</td>\n",
                            "      <td>NaN</td>\n",
                            "      <td>1.095737</td>\n",
                            "      <td>1.205571</td>\n",
                            "      <td>0.0</td>\n",
                            "      <td>0.0</td>\n",
                            "      <td>1.0</td>\n",
                            "      <td>2.0</td>\n",
                            "      <td>5.0</td>\n",
                            "    </tr>\n",
                            "    <tr>\n",
                            "      <th>smoker</th>\n",
                            "      <td>1337</td>\n",
                            "      <td>2</td>\n",
                            "      <td>no</td>\n",
                            "      <td>1063</td>\n",
                            "      <td>NaN</td>\n",
                            "      <td>NaN</td>\n",
                            "      <td>NaN</td>\n",
                            "      <td>NaN</td>\n",
                            "      <td>NaN</td>\n",
                            "      <td>NaN</td>\n",
                            "      <td>NaN</td>\n",
                            "    </tr>\n",
                            "    <tr>\n",
                            "      <th>region</th>\n",
                            "      <td>1337</td>\n",
                            "      <td>4</td>\n",
                            "      <td>southeast</td>\n",
                            "      <td>364</td>\n",
                            "      <td>NaN</td>\n",
                            "      <td>NaN</td>\n",
                            "      <td>NaN</td>\n",
                            "      <td>NaN</td>\n",
                            "      <td>NaN</td>\n",
                            "      <td>NaN</td>\n",
                            "      <td>NaN</td>\n",
                            "    </tr>\n",
                            "    <tr>\n",
                            "      <th>charges</th>\n",
                            "      <td>1337.0</td>\n",
                            "      <td>NaN</td>\n",
                            "      <td>NaN</td>\n",
                            "      <td>NaN</td>\n",
                            "      <td>13279.121487</td>\n",
                            "      <td>12110.359656</td>\n",
                            "      <td>1121.8739</td>\n",
                            "      <td>4746.344</td>\n",
                            "      <td>9386.1613</td>\n",
                            "      <td>16657.71745</td>\n",
                            "      <td>63770.42801</td>\n",
                            "    </tr>\n",
                            "  </tbody>\n",
                            "</table>\n",
                            "</div>"
                        ],
                        "text/plain": [
                            "           count unique        top  freq          mean           std  \\\n",
                            "age       1337.0    NaN        NaN   NaN     39.222139     14.044333   \n",
                            "sex         1337      2       male   675           NaN           NaN   \n",
                            "bmi       1337.0    NaN        NaN   NaN     30.663452      6.100468   \n",
                            "children  1337.0    NaN        NaN   NaN      1.095737      1.205571   \n",
                            "smoker      1337      2         no  1063           NaN           NaN   \n",
                            "region      1337      4  southeast   364           NaN           NaN   \n",
                            "charges   1337.0    NaN        NaN   NaN  13279.121487  12110.359656   \n",
                            "\n",
                            "                min       25%        50%          75%          max  \n",
                            "age            18.0      27.0       39.0         51.0         64.0  \n",
                            "sex             NaN       NaN        NaN          NaN          NaN  \n",
                            "bmi           15.96     26.29       30.4         34.7        53.13  \n",
                            "children        0.0       0.0        1.0          2.0          5.0  \n",
                            "smoker          NaN       NaN        NaN          NaN          NaN  \n",
                            "region          NaN       NaN        NaN          NaN          NaN  \n",
                            "charges   1121.8739  4746.344  9386.1613  16657.71745  63770.42801  "
                        ]
                    },
                    "execution_count": 468,
                    "metadata": {},
                    "output_type": "execute_result"
                }
            ],
            "source": [
                "# Descripción estadística básica de todas las columnas del DataFrame:\n",
                "df_clean.describe(include='all').T # Se traspone para ver de forma más clara los datos"
            ]
        },
        {
            "cell_type": "markdown",
            "metadata": {},
            "source": [
                "En este caso, interesaba principalmente **desechar clientes cuya información aportada no fuese *lógica***, por ejemplo, alguien que presentase una edad exageradamente alta.\n",
                "\n",
                "Sin embargo, no se ha encontrado **ningún caso extremo**, por lo que no será necesario realizar una limpieza a partir de la información estadística de los datos. "
            ]
        },
        {
            "cell_type": "markdown",
            "metadata": {},
            "source": [
                "### Paso 2.3 - Análisis de Nulos:"
            ]
        },
        {
            "cell_type": "markdown",
            "metadata": {},
            "source": [
                "Uno de los problemas que es habitual encontrarse en el análisis de datos es **variables sin valor**, nulos.\n",
                "\n",
                "Es por ello que se deben tratar estos casos para o bien **eliminarlos** o bien **rellenarlos** con un valor coherente para cada uno.\n",
                "\n",
                "En primer lugar, para realizar el análisis, se va a obtener el **porcentaje de clientes que presentan al menos un nulo** en alguna de las características."
            ]
        },
        {
            "cell_type": "code",
            "execution_count": 469,
            "metadata": {},
            "outputs": [
                {
                    "name": "stdout",
                    "output_type": "stream",
                    "text": [
                        " El 0.0 % de los clientes presenta, al menos, un valor nulo en alguna de sus características descriptivas\n"
                    ]
                }
            ],
            "source": [
                "# Se comprueba el porcentaje de clientes que presentan al menos un valor nulo:\n",
                "print(f\" El {round(df_clean.isnull().any(axis=1).mean()*100, 2)} % de los clientes presenta, al menos, un valor nulo en alguna de sus características descriptivas\");"
            ]
        },
        {
            "cell_type": "markdown",
            "metadata": {},
            "source": [
                "Se comprueba que **no hay ningún valor faltante en nuestro conjunto de datos**, por lo que no se tiene por qué inferir información en ningún caso."
            ]
        },
        {
            "cell_type": "markdown",
            "metadata": {},
            "source": [
                "### Paso 2.4  Análisis de Observaciones Influyentes:"
            ]
        },
        {
            "cell_type": "markdown",
            "metadata": {},
            "source": [
                "En este paso se va a proceder a realizar uno de los puntos clave en el Análisis Exploratorio de Datos, la Identificación de **Observaciones Influyentes**.\n",
                "\n",
                "Sin embargo, para poder realizar este paso, es necesario que **todas las variables con las que se trabaja sean numéricas**. Por este motivo, en primer lugar, se va a comprobar si hay alguna variable catégorica utilizando el método `.describe()` con el parámetro `include = 'object'`:"
            ]
        },
        {
            "cell_type": "code",
            "execution_count": 470,
            "metadata": {},
            "outputs": [
                {
                    "data": {
                        "text/html": [
                            "<div>\n",
                            "<style scoped>\n",
                            "    .dataframe tbody tr th:only-of-type {\n",
                            "        vertical-align: middle;\n",
                            "    }\n",
                            "\n",
                            "    .dataframe tbody tr th {\n",
                            "        vertical-align: top;\n",
                            "    }\n",
                            "\n",
                            "    .dataframe thead th {\n",
                            "        text-align: right;\n",
                            "    }\n",
                            "</style>\n",
                            "<table border=\"1\" class=\"dataframe\">\n",
                            "  <thead>\n",
                            "    <tr style=\"text-align: right;\">\n",
                            "      <th></th>\n",
                            "      <th>count</th>\n",
                            "      <th>unique</th>\n",
                            "      <th>top</th>\n",
                            "      <th>freq</th>\n",
                            "    </tr>\n",
                            "  </thead>\n",
                            "  <tbody>\n",
                            "    <tr>\n",
                            "      <th>sex</th>\n",
                            "      <td>1337</td>\n",
                            "      <td>2</td>\n",
                            "      <td>male</td>\n",
                            "      <td>675</td>\n",
                            "    </tr>\n",
                            "    <tr>\n",
                            "      <th>smoker</th>\n",
                            "      <td>1337</td>\n",
                            "      <td>2</td>\n",
                            "      <td>no</td>\n",
                            "      <td>1063</td>\n",
                            "    </tr>\n",
                            "    <tr>\n",
                            "      <th>region</th>\n",
                            "      <td>1337</td>\n",
                            "      <td>4</td>\n",
                            "      <td>southeast</td>\n",
                            "      <td>364</td>\n",
                            "    </tr>\n",
                            "  </tbody>\n",
                            "</table>\n",
                            "</div>"
                        ],
                        "text/plain": [
                            "       count unique        top  freq\n",
                            "sex     1337      2       male   675\n",
                            "smoker  1337      2         no  1063\n",
                            "region  1337      4  southeast   364"
                        ]
                    },
                    "execution_count": 470,
                    "metadata": {},
                    "output_type": "execute_result"
                }
            ],
            "source": [
                "# Descripción estadística básica de todas las columnas del DataFrame:\n",
                "df_clean.describe(include = 'object').T"
            ]
        },
        {
            "cell_type": "markdown",
            "metadata": {},
            "source": [
                "En este caso, no se tiene un criterio determinado por el cual se desee codificar estas variables. Por ello, simplemente se va a utilizar una instancia de un `LabelEncoder()` de la librería `scikit-learn`."
            ]
        },
        {
            "cell_type": "code",
            "execution_count": 471,
            "metadata": {},
            "outputs": [
                {
                    "name": "stdout",
                    "output_type": "stream",
                    "text": [
                        "No hay variables categóricas en el conjunto de datos.\n"
                    ]
                },
                {
                    "name": "stderr",
                    "output_type": "stream",
                    "text": [
                        "/tmp/ipykernel_673/134788346.py:7: SettingWithCopyWarning: \n",
                        "A value is trying to be set on a copy of a slice from a DataFrame.\n",
                        "Try using .loc[row_indexer,col_indexer] = value instead\n",
                        "\n",
                        "See the caveats in the documentation: https://pandas.pydata.org/pandas-docs/stable/user_guide/indexing.html#returning-a-view-versus-a-copy\n",
                        "  df_clean['sex_num'] = encoder_sex.fit_transform(df_clean['sex']);\n",
                        "/tmp/ipykernel_673/134788346.py:8: SettingWithCopyWarning: \n",
                        "A value is trying to be set on a copy of a slice from a DataFrame.\n",
                        "Try using .loc[row_indexer,col_indexer] = value instead\n",
                        "\n",
                        "See the caveats in the documentation: https://pandas.pydata.org/pandas-docs/stable/user_guide/indexing.html#returning-a-view-versus-a-copy\n",
                        "  df_clean['smoker_num'] = encoder_smoker.fit_transform(df_clean['smoker']);\n",
                        "/tmp/ipykernel_673/134788346.py:9: SettingWithCopyWarning: \n",
                        "A value is trying to be set on a copy of a slice from a DataFrame.\n",
                        "Try using .loc[row_indexer,col_indexer] = value instead\n",
                        "\n",
                        "See the caveats in the documentation: https://pandas.pydata.org/pandas-docs/stable/user_guide/indexing.html#returning-a-view-versus-a-copy\n",
                        "  df_clean['region_num'] = encoder_region.fit_transform(df_clean['region']);\n",
                        "/tmp/ipykernel_673/134788346.py:12: SettingWithCopyWarning: \n",
                        "A value is trying to be set on a copy of a slice from a DataFrame\n",
                        "\n",
                        "See the caveats in the documentation: https://pandas.pydata.org/pandas-docs/stable/user_guide/indexing.html#returning-a-view-versus-a-copy\n",
                        "  df_clean.drop(['sex', 'smoker', 'region'], axis = 1, inplace = True);\n"
                    ]
                }
            ],
            "source": [
                "# Se crea una instancia del codificador:\n",
                "encoder_sex = LabelEncoder();\n",
                "encoder_smoker = LabelEncoder();\n",
                "encoder_region = LabelEncoder();\n",
                "\n",
                "# Se codifican las características categóricas a numéricas:\n",
                "df_clean['sex_num'] = encoder_sex.fit_transform(df_clean['sex']);\n",
                "df_clean['smoker_num'] = encoder_smoker.fit_transform(df_clean['smoker']);\n",
                "df_clean['region_num'] = encoder_region.fit_transform(df_clean['region']);\n",
                "\n",
                "# Se borran las características categóricas del conjunto de datos:\n",
                "df_clean.drop(['sex', 'smoker', 'region'], axis = 1, inplace = True);\n",
                "\n",
                "# Se comprueba que ya no quedan columnas categóricas:\n",
                "try:\n",
                "    # Se intenta obtener el resumen de las columnas categóricas\n",
                "    print(df_clean.describe(include='object')).T;\n",
                "\n",
                "except Exception:\n",
                "    # Si hay un error, es porque no hay columnas categóricas:\n",
                "    print(\"No hay variables categóricas en el conjunto de datos.\");\n",
                "\n"
            ]
        },
        {
            "cell_type": "markdown",
            "metadata": {},
            "source": [
                "Una vez ya se cuenta con todas las características numéricas, se puede proceder a i**dentificar las observaciones influyentes**.\n",
                "\n",
                "Para ello, en primer lugar es necesario identificar cuál será, de ahora en adelante la **variable dependiente**, es decir, la variable a *predecir* y separar tanto esta como todas las relacionadas con ella.\n",
                "\n",
                "En este caso, la **variable a predecir** será la prima del seguro médico (`charges`). Teniendo en cuenta que en el conjunto de datos **no hay ninguna otra características relacionada** directamente con esta, las variables independientes serán todo el resto. "
            ]
        },
        {
            "cell_type": "code",
            "execution_count": 472,
            "metadata": {},
            "outputs": [],
            "source": [
                "# Se separa la variable dependiente: \n",
                "y = df_clean ['charges'];\n",
                "\n",
                "# Se guardan las variables independientes en una matrix, eliminando las características relacionadas con la dependiente:\n",
                "X = df_clean.drop(['charges'], axis = 1);"
            ]
        },
        {
            "cell_type": "markdown",
            "metadata": {},
            "source": [
                "Ahora que se tienen los datos separados, se puede proceder a la identificación de observaciones influyentes a partir del estudio de la **Distancia de Cook**.\n",
                "\n",
                "Este parámetro ayuda a evaluar la **influencia de una observación mediante los coeficientes de un modelo de regresión lineal**. Si la Distancia de Cook de una observación es alta, significa que dicho dato puede estar alterando de forma muy notable el ajuste del modelo."
            ]
        },
        {
            "cell_type": "code",
            "execution_count": 473,
            "metadata": {},
            "outputs": [],
            "source": [
                "# Se incluye el término de ordenada en el origen: \n",
                "X = sm.add_constant (X);\n",
                "\n",
                "# Se ajusta el modelo de Regresión Lineal Ordinaria: \n",
                "model_OLS = sm.OLS(y, X).fit();\n",
                "\n",
                "# Se hace un diagnóstico de influencia y se extrae la Distancia de Cook: \n",
                "cooks_distance = model_OLS.get_influence().cooks_distance;"
            ]
        },
        {
            "cell_type": "markdown",
            "metadata": {},
            "source": [
                "Hay una norma estándar que establece un **punto de corte para la Distancia de Cook**, a partir de la cual está aceptado que la información dentro de un conjunto de datos presente. Dicho límite es la **cuarta parte de la longitud total del DataFrame**:"
            ]
        },
        {
            "cell_type": "code",
            "execution_count": 474,
            "metadata": {},
            "outputs": [
                {
                    "name": "stdout",
                    "output_type": "stream",
                    "text": [
                        " Hay un total de 97 clientes que se encuentran por encima del punto de corte\n"
                    ]
                }
            ],
            "source": [
                "# Se define el Punto de Corte:\n",
                "cut_point = 4/len(df_clean);\n",
                "\n",
                "# Se comprueba cuántas viviendas están por encima de ese punto de corte:\n",
                "print(f\" Hay un total de {len(np.where(cooks_distance[0]>cut_point)[0])} clientes que se encuentran por encima del punto de corte\");\n",
                "\n",
                "# Se eliminan las observaciones influyentes:\n",
                "df_clean = df_clean.drop(np.where(cooks_distance[0] > cut_point)[0]);"
            ]
        },
        {
            "cell_type": "markdown",
            "metadata": {},
            "source": [
                "### Paso 2.5 - Análisis de Características Relevantes:"
            ]
        },
        {
            "cell_type": "markdown",
            "metadata": {},
            "source": [
                "Continuando con el proceso de preparación y compresión del conjunto de datos que implica un Análisis Exploratorio. se va a realizar una **Selección de Características**.\n",
                "\n",
                "Para ello, se va a utilizar un modelo de regresión basado en **XGBoost**, un algoritmo basado en árboles de decisión que utiliza boosting para mejorar la precisión. Por este motivo, el primer paso ha de ser separar el conjunto de datos teniendo una partición para entrenar al modelo (train) y otro para probarlo (test), de forma que se pueda evaluar sin inferir en el modelo su capacidad predictiva."
            ]
        },
        {
            "cell_type": "code",
            "execution_count": 475,
            "metadata": {},
            "outputs": [],
            "source": [
                "# Se separa la variable dependiente: \n",
                "y = df_clean ['charges'];\n",
                "\n",
                "# Se guardan las variables independientes en una matrix, eliminando las características relacionadas con la dependiente:\n",
                "X = df_clean.drop(['charges'], axis = 1);\n",
                "\n",
                "# Se realiza la partición, explicitando el tamaño del test set:\n",
                "X_train, X_test, y_train, y_test = train_test_split(X, y, test_size = 0.2, random_state = 42);\n",
                "\n",
                "# Se crea un modelo de regresión XGBoost y se entrena con los datos del 'train_set':\n",
                "xgb_model = xgb.XGBRegressor(objective = 'reg:squarederror', random_state = 42).fit(X_train, y_train);"
            ]
        },
        {
            "cell_type": "markdown",
            "metadata": {},
            "source": [
                "Una vez se tiene el modelo entrenado, se va a generar un DataFrame que contenga el nombre cada característica y su importancia en valor porcentual:"
            ]
        },
        {
            "cell_type": "code",
            "execution_count": 476,
            "metadata": {},
            "outputs": [
                {
                    "data": {
                        "text/html": [
                            "<div>\n",
                            "<style scoped>\n",
                            "    .dataframe tbody tr th:only-of-type {\n",
                            "        vertical-align: middle;\n",
                            "    }\n",
                            "\n",
                            "    .dataframe tbody tr th {\n",
                            "        vertical-align: top;\n",
                            "    }\n",
                            "\n",
                            "    .dataframe thead th {\n",
                            "        text-align: right;\n",
                            "    }\n",
                            "</style>\n",
                            "<table border=\"1\" class=\"dataframe\">\n",
                            "  <thead>\n",
                            "    <tr style=\"text-align: right;\">\n",
                            "      <th></th>\n",
                            "      <th>Feature</th>\n",
                            "      <th>Importance</th>\n",
                            "    </tr>\n",
                            "  </thead>\n",
                            "  <tbody>\n",
                            "    <tr>\n",
                            "      <th>4</th>\n",
                            "      <td>smoker_num</td>\n",
                            "      <td>96.633217</td>\n",
                            "    </tr>\n",
                            "    <tr>\n",
                            "      <th>1</th>\n",
                            "      <td>bmi</td>\n",
                            "      <td>1.443338</td>\n",
                            "    </tr>\n",
                            "    <tr>\n",
                            "      <th>0</th>\n",
                            "      <td>age</td>\n",
                            "      <td>1.037058</td>\n",
                            "    </tr>\n",
                            "    <tr>\n",
                            "      <th>2</th>\n",
                            "      <td>children</td>\n",
                            "      <td>0.371238</td>\n",
                            "    </tr>\n",
                            "    <tr>\n",
                            "      <th>5</th>\n",
                            "      <td>region_num</td>\n",
                            "      <td>0.353478</td>\n",
                            "    </tr>\n",
                            "    <tr>\n",
                            "      <th>3</th>\n",
                            "      <td>sex_num</td>\n",
                            "      <td>0.161669</td>\n",
                            "    </tr>\n",
                            "  </tbody>\n",
                            "</table>\n",
                            "</div>"
                        ],
                        "text/plain": [
                            "      Feature  Importance\n",
                            "4  smoker_num   96.633217\n",
                            "1         bmi    1.443338\n",
                            "0         age    1.037058\n",
                            "2    children    0.371238\n",
                            "5  region_num    0.353478\n",
                            "3     sex_num    0.161669"
                        ]
                    },
                    "execution_count": 476,
                    "metadata": {},
                    "output_type": "execute_result"
                }
            ],
            "source": [
                "# Se extrae la importancia de cada característica en porcentaje y se guarda en un Data Frame:\n",
                "df_imp = pd.DataFrame({'Feature':X_train.columns, 'Importance':xgb_model.feature_importances_*100});\n",
                "\n",
                "# Se ordena el Data Frame en orden de mayor a menor importancia:\n",
                "df_imp = df_imp.sort_values(by='Importance', ascending=False);\n",
                "\n",
                "# Se muestra el Data Frame de las características y su importancia: \n",
                "df_imp"
            ]
        },
        {
            "cell_type": "markdown",
            "metadata": {},
            "source": [
                "Como se puede ver, la **característica más importante** que determina la predicción sobre la variable objetivo es **si el cliente es o no fumador**. \n",
                "\n",
                "El **resto de características son mucho menos relevantes**, estando algunas por **debajo del 1%**. Estas últimas, se van a eliminar para trabajar únicamente con las variables realmente importantes sobre la variable a predecir. "
            ]
        },
        {
            "cell_type": "code",
            "execution_count": 477,
            "metadata": {},
            "outputs": [],
            "source": [
                "# Se establece un punto de corte: \n",
                "cut_point_characteristics = 1;\n",
                "\n",
                "# Se seleccionan las características con más de 1% de importancia:\n",
                "X_train = X_train[df_imp[df_imp.Importance>1]['Feature'].values];\n",
                "X_test = X_test[df_imp[df_imp.Importance>1]['Feature'].values];"
            ]
        },
        {
            "cell_type": "markdown",
            "metadata": {},
            "source": [
                "### Paso 2.6 - Análisis del VIF:"
            ]
        },
        {
            "cell_type": "markdown",
            "metadata": {},
            "source": [
                "Para continuar con el Análisis Exploratorio de los Datos, se va proceder a utilizar una métrica para **detectar la colinealidad entre las variables independientes**, el factor de Inflación de Varianza (**VIF**), pudiendo así saber si una variable puede predecirse de manera lineal usando otras variables y **evitar redundancias** en el conjunto de datos."
            ]
        },
        {
            "cell_type": "code",
            "execution_count": 478,
            "metadata": {},
            "outputs": [
                {
                    "data": {
                        "text/plain": [
                            "smoker_num    1.016008\n",
                            "bmi           1.056454\n",
                            "age           1.043022\n",
                            "dtype: float64"
                        ]
                    },
                    "execution_count": 478,
                    "metadata": {},
                    "output_type": "execute_result"
                }
            ],
            "source": [
                "# Se calcula el VIF utilizando la función variance_inflation_factor de cada una de las características del conjunto de datos:\n",
                "vif = pd.Series([variance_inflation_factor(X_train.corr().values, i) for i in range(X_train.corr().shape[1])], index=X_train.columns);\n",
                "vif"
            ]
        },
        {
            "cell_type": "markdown",
            "metadata": {},
            "source": [
                "La forma correcta de interpretar un VIF es la siguiente:\n",
                "\n",
                "**VIF** = 1 : No hay colinealidad\n",
                "1 < **VIF** < 5 : Colinealidad Mderada\n",
                "**VIF** > 5 : Colinealidad Alta\n",
                "\n",
                "Por este motivo, siguiendo dicho criterio, **no existe colinealidad entre las características** restantes en el conjunto de datos. Para realizar una comprobación adicional, se va a proceder a visualizar de forma clara las relaciones lineales a través de un **mapa de color de la matriz de correlación**:"
            ]
        },
        {
            "cell_type": "code",
            "execution_count": 479,
            "metadata": {},
            "outputs": [
                {
                    "data": {
                        "text/plain": [
                            "<Axes: >"
                        ]
                    },
                    "execution_count": 479,
                    "metadata": {},
                    "output_type": "execute_result"
                },
                {
                    "data": {
                        "image/png": "[encoded data removed]",
                        "text/plain": [
                            "<Figure size 640x480 with 2 Axes>"
                        ]
                    },
                    "metadata": {},
                    "output_type": "display_data"
                }
            ],
            "source": [
                "# Se hace una copia del train set:\n",
                "X_corr = X_train.copy();\n",
                "\n",
                "# Se añade la columna de precios:\n",
                "X_corr['charges'] = y_train;\n",
                "\n",
                "# Se calcula la matrix de correlación entre todas las columnas:\n",
                "corr = X_corr.corr();\n",
                "\n",
                "# Se crea el mapa de color:\n",
                "mask = np.triu(np.ones_like(corr, dtype=bool))\n",
                "sns.heatmap(corr, mask=mask, annot=True, cmap='coolwarm', linewidths=0.5, fmt='.2f')"
            ]
        },
        {
            "cell_type": "markdown",
            "metadata": {},
            "source": [
                "Tal y como se ha estudiado durante la selección de características, la prima del seguro médico (nuestra variable objetivo) parece depender de si la persona es o no fumadora. "
            ]
        },
        {
            "cell_type": "markdown",
            "metadata": {},
            "source": [
                "## Paso 3 - Escalado de Variables:"
            ]
        },
        {
            "cell_type": "markdown",
            "metadata": {},
            "source": [
                "Una vez se tiene el **conjunto de datos depurado**, se debe preparar para **utilizar algoritmos de aprendizaje supervisado** como una **Regresión Lineal**, dado que así se puede asegurar que todos los cdatos **contribuyan de manera equitativa al modelo**.\n",
                "\n",
                "En este caso, como se cuenta con **una variable binaria**, se ha optado por realizar un escalado a través del `MinMaxScaler()`. De esta forma, en primer lugar, se ha de **identificar qué características son binarias**:"
            ]
        },
        {
            "cell_type": "code",
            "execution_count": 480,
            "metadata": {},
            "outputs": [
                {
                    "data": {
                        "text/plain": [
                            "Index(['smoker_num'], dtype='object')"
                        ]
                    },
                    "execution_count": 480,
                    "metadata": {},
                    "output_type": "execute_result"
                }
            ],
            "source": [
                "# Se identifican las variables binarias:\n",
                "binary_cols = X_train[(X_train == 0)|(X_train == 1)].dropna(axis=1).columns;\n",
                "binary_cols"
            ]
        },
        {
            "cell_type": "markdown",
            "metadata": {},
            "source": [
                "Ahora que ya se conoce qué variable es binaria, se pueden **tratar y escalar el resto** de forma separada:"
            ]
        },
        {
            "cell_type": "code",
            "execution_count": 481,
            "metadata": {},
            "outputs": [],
            "source": [
                "# Se seleccionan las columnas NO binarias:\n",
                "X_train_nobin = X_train.drop(binary_cols, axis = 1);\n",
                "X_test_nobin = X_test.drop(binary_cols, axis = 1);\n",
                "\n",
                "# Se instancia un escalador normalizado y se ajusta con los datos de entrenamiento:\n",
                "scaler = MinMaxScaler().fit(X_train_nobin);\n",
                "\n",
                "# Se escalan los datos:\n",
                "X_train_nobin_sc = scaler.transform(X_train_nobin);\n",
                "X_test_nobin_sc = scaler.transform(X_test_nobin);"
            ]
        },
        {
            "cell_type": "markdown",
            "metadata": {},
            "source": [
                "Una vez realizado el escalado, ya se tienen **todas las características con valores binarios**, por lo que se pueden **añadir las que se habían detectado en este rango** desde un principio:"
            ]
        },
        {
            "cell_type": "code",
            "execution_count": 482,
            "metadata": {},
            "outputs": [
                {
                    "data": {
                        "text/html": [
                            "<div>\n",
                            "<style scoped>\n",
                            "    .dataframe tbody tr th:only-of-type {\n",
                            "        vertical-align: middle;\n",
                            "    }\n",
                            "\n",
                            "    .dataframe tbody tr th {\n",
                            "        vertical-align: top;\n",
                            "    }\n",
                            "\n",
                            "    .dataframe thead th {\n",
                            "        text-align: right;\n",
                            "    }\n",
                            "</style>\n",
                            "<table border=\"1\" class=\"dataframe\">\n",
                            "  <thead>\n",
                            "    <tr style=\"text-align: right;\">\n",
                            "      <th></th>\n",
                            "      <th>bmi</th>\n",
                            "      <th>age</th>\n",
                            "      <th>smoker_num</th>\n",
                            "    </tr>\n",
                            "  </thead>\n",
                            "  <tbody>\n",
                            "    <tr>\n",
                            "      <th>0</th>\n",
                            "      <td>0.124522</td>\n",
                            "      <td>0.130435</td>\n",
                            "      <td>1</td>\n",
                            "    </tr>\n",
                            "    <tr>\n",
                            "      <th>1</th>\n",
                            "      <td>0.158247</td>\n",
                            "      <td>0.021739</td>\n",
                            "      <td>0</td>\n",
                            "    </tr>\n",
                            "    <tr>\n",
                            "      <th>2</th>\n",
                            "      <td>0.358820</td>\n",
                            "      <td>0.282609</td>\n",
                            "      <td>0</td>\n",
                            "    </tr>\n",
                            "    <tr>\n",
                            "      <th>3</th>\n",
                            "      <td>0.478973</td>\n",
                            "      <td>0.326087</td>\n",
                            "      <td>1</td>\n",
                            "    </tr>\n",
                            "    <tr>\n",
                            "      <th>4</th>\n",
                            "      <td>0.297105</td>\n",
                            "      <td>0.086957</td>\n",
                            "      <td>0</td>\n",
                            "    </tr>\n",
                            "    <tr>\n",
                            "      <th>...</th>\n",
                            "      <td>...</td>\n",
                            "      <td>...</td>\n",
                            "      <td>...</td>\n",
                            "    </tr>\n",
                            "    <tr>\n",
                            "      <th>987</th>\n",
                            "      <td>0.459858</td>\n",
                            "      <td>0.347826</td>\n",
                            "      <td>0</td>\n",
                            "    </tr>\n",
                            "    <tr>\n",
                            "      <th>988</th>\n",
                            "      <td>0.391589</td>\n",
                            "      <td>0.152174</td>\n",
                            "      <td>0</td>\n",
                            "    </tr>\n",
                            "    <tr>\n",
                            "      <th>989</th>\n",
                            "      <td>0.389132</td>\n",
                            "      <td>0.434783</td>\n",
                            "      <td>0</td>\n",
                            "    </tr>\n",
                            "    <tr>\n",
                            "      <th>990</th>\n",
                            "      <td>0.203168</td>\n",
                            "      <td>0.021739</td>\n",
                            "      <td>0</td>\n",
                            "    </tr>\n",
                            "    <tr>\n",
                            "      <th>991</th>\n",
                            "      <td>0.632987</td>\n",
                            "      <td>0.000000</td>\n",
                            "      <td>0</td>\n",
                            "    </tr>\n",
                            "  </tbody>\n",
                            "</table>\n",
                            "<p>992 rows × 3 columns</p>\n",
                            "</div>"
                        ],
                        "text/plain": [
                            "          bmi       age  smoker_num\n",
                            "0    0.124522  0.130435           1\n",
                            "1    0.158247  0.021739           0\n",
                            "2    0.358820  0.282609           0\n",
                            "3    0.478973  0.326087           1\n",
                            "4    0.297105  0.086957           0\n",
                            "..        ...       ...         ...\n",
                            "987  0.459858  0.347826           0\n",
                            "988  0.391589  0.152174           0\n",
                            "989  0.389132  0.434783           0\n",
                            "990  0.203168  0.021739           0\n",
                            "991  0.632987  0.000000           0\n",
                            "\n",
                            "[992 rows x 3 columns]"
                        ]
                    },
                    "execution_count": 482,
                    "metadata": {},
                    "output_type": "execute_result"
                }
            ],
            "source": [
                "# Se añaden todas las características y se guardan en un Data Frame de nuevo:\n",
                "X_train_sc = pd.concat([pd.DataFrame(X_train_nobin_sc, columns = X_train_nobin.columns), X_train[binary_cols].reset_index(drop=True)], axis=1);\n",
                "y_train = y_train.reset_index(drop = True) \n",
                " \n",
                "X_test_sc = pd.concat([pd.DataFrame(X_test_nobin_sc, columns = X_test_nobin.columns), X_test[binary_cols].reset_index(drop=True)], axis=1);\n",
                "y_test = y_test.reset_index(drop = True) \n",
                "\n",
                "X_train_sc"
            ]
        },
        {
            "cell_type": "markdown",
            "metadata": {},
            "source": [
                "## Paso 4 - Estudio de la Regresión Lineal:"
            ]
        },
        {
            "cell_type": "markdown",
            "metadata": {},
            "source": [
                "Una vez ya se tienen los **datos preparados y escalados**, se puede proceder a realizar el modelo de regresión lineal. \n",
                "\n",
                "En este caso se va a utilizar la librería `stats.models` para generar un modelo de **regresión lineal ordinaria** cuyo objetivo sea **minimizar** la suma de los errores cuadráticos. \n",
                "\n",
                "La **finalidad principal** de cualquier algoritmo de predicción es conocer el **rendimiento sobre los datos de prueba**. Por esta razón, en primer lugar, se ha de **entrenar el modelo** con el conjunto de **entrenamiento** y, posteriormente, **aplicar dicho modelo al set de *test*** y comprobar qué tan buena es su predicción. \n",
                "\n",
                "Para esta ocasión, primero se va a realizar un **estudio del rendimiento** del modelo también en los datos de *train*. "
            ]
        },
        {
            "cell_type": "code",
            "execution_count": 483,
            "metadata": {},
            "outputs": [
                {
                    "name": "stdout",
                    "output_type": "stream",
                    "text": [
                        "                                 OLS Regression Results                                \n",
                        "=======================================================================================\n",
                        "Dep. Variable:                charges   R-squared (uncentered):                   0.904\n",
                        "Model:                            OLS   Adj. R-squared (uncentered):              0.904\n",
                        "Method:                 Least Squares   F-statistic:                              3106.\n",
                        "Date:                Fri, 24 Jan 2025   Prob (F-statistic):                        0.00\n",
                        "Time:                        20:56:06   Log-Likelihood:                         -9952.5\n",
                        "No. Observations:                 992   AIC:                                  1.991e+04\n",
                        "Df Residuals:                     989   BIC:                                  1.993e+04\n",
                        "Df Model:                           3                                                  \n",
                        "Covariance Type:            nonrobust                                                  \n",
                        "==============================================================================\n",
                        "                 coef    std err          t      P>|t|      [0.025      0.975]\n",
                        "------------------------------------------------------------------------------\n",
                        "bmi         8242.4865    677.136     12.173      0.000    6913.698    9571.275\n",
                        "age         1.079e+04    524.807     20.566      0.000    9763.313    1.18e+04\n",
                        "smoker_num  2.459e+04    433.659     56.702      0.000    2.37e+04    2.54e+04\n",
                        "==============================================================================\n",
                        "Omnibus:                      185.039   Durbin-Watson:                   1.967\n",
                        "Prob(Omnibus):                  0.000   Jarque-Bera (JB):              503.714\n",
                        "Skew:                           0.957   Prob(JB):                    4.17e-110\n",
                        "Kurtosis:                       5.920   Cond. No.                         3.25\n",
                        "==============================================================================\n",
                        "\n",
                        "Notes:\n",
                        "[1] R² is computed without centering (uncentered) since the model does not contain a constant.\n",
                        "[2] Standard Errors assume that the covariance matrix of the errors is correctly specified.\n"
                    ]
                }
            ],
            "source": [
                "# Se incluye el término de ordenada en el origen: \n",
                "#X_train_sc = sm.add_constant(X_train_sc);\n",
                "\n",
                "# Se ajusta el modelo de Regresión Lineal Ordinaria: \n",
                "model = sm.OLS(y_train, X_train_sc).fit();\n",
                "\n",
                "# Se imprime un resumen de las métricas del modelo para el train set:\n",
                "print(model.summary())\n"
            ]
        },
        {
            "cell_type": "markdown",
            "metadata": {},
            "source": [
                "Gracias al amplio resumen se puede comprobar que un **90.4% de la variabilidad presente** en el coste del seguro puede ser **explicada por el modelo** a partir de las **tres variables independientes que se han empleado** (BMI, EDAD y si la persona es o no FUMADORA). Este valor de la **R-Squared** explica que el modelo tiene una **gra capacidad predictiva** aunque puede haber **margen de mejora** sin llegar a sobreajustar el modelo. \n",
                "\n",
                "El modelo de Regresión Lineal se basa en las siguientes hipótesis: \n",
                "**- Hipótesis Nula:** Todos los coeficientes son nulos, lo que implica que las **variables independientes seleccionadas no tienen una significancia real** sobre la variable independiente\n",
                "\n",
                "**- Hipótesis Alternativa:** Al menos uno de los coeficientes es distinto de cero, lo que implica que **al menos una de las variables independientes seleccionadas tiene un efecto significativo** sobre la variable dependiente. \n",
                "\n",
                "En este caso, se puede ver que el **P-Valor**, mostrado como *Prob(F-statistic)* es **prácticamente 0 **por lo que **NO se rechaza la hipótesis alternativa**, es decir, al menos una de las variables independientes seleccionadas tiene una significancia real sobre la dependiente. Gracias al resumen, se comprueba que todos los coeficientes que acompañan a cada una de las variables independientes son distintos de 0, con lo que **todas las características seleccionadas tienen un impacto real sobre la objetivo**. Si se **ordenan de mayor a menor valor**, la **importancia concuerda con la matrix de color de la correlación** vista anteriormente en la cual **ser fumador o no es la variable que más afecta, seguida de la edad y del BMI**. \n",
                "\n",
                "El **análisis coeficiente a coeficiente** es un poco más complicado dado que se han **escalado las variables previamente**. Por un lado, si se toma la **variable binaria de ser o no fumador**, se puede decir que el hecho de ser una **persona fumadora aumenta en casi 25.000 unidades monetarias el precio del seguro** frente a otra que no lo sea. \n",
                "\n",
                "En el caso de la **edad**, teniendo en cuenta la tabla de resumen estadística obtenida al principio de la práctica, se sabe que la **menor edad registrada es de 18 años**, mientras que la **mayor es de 64 años**, lo que implica una **variación de 46 años**. Por lo tanto, para reflejar el **impacto que tiene un año de diferencia en la escala original** simplemente hay que dividir el coeficiente obtenido entre el rango real: 10790/46 = **235 unidades monetarias de diferencia para cada año del cliente**. \n",
                "\n",
                "Finalmente, es importante destacar que hay una serie de suposiciones clave en la regresión lineal: \n",
                "\n",
                "1. Debe existir una relación lineal entre las variables\n",
                "\n",
                "2. Las variables independientes no pueden ser constantes\n",
                "\n",
                "3. El error debe asemejarse a una distribución normal\n",
                "\n",
                "Las dos primeras condiciones ya se han comprobado, mientras que para evaluar la tercera es necesario estudiar los **residuos**, en concreto los parámetros: *Prob(Omnibus)* y *Prob(JB)*. Ambos dos son **cercanos a 0**, lo que implica que **NO rechazan la Hipótesis Alternativa definida en su documentación** y prueban que el **error sí se asemeja a una distribución normal**.\n"
            ]
        },
        {
            "cell_type": "markdown",
            "metadata": {},
            "source": [
                "Gracias a todo este análisis, se ha comprobado que el **modelo de regresión lineal es válido** para las variables independientes y dependiente seleccionadas. \n",
                "\n",
                "Teniendo esto en cuenta, y sabiendo que la **capacidad predictiva del modelo es alta**, se va a evaluar su comportamiento con el conjunto de test.\n",
                "\n",
                "Para ello, se va a **usar el modelo entrenado** con el conjunto de train  y se utilizará `.predict()` para predecir los valores objetivo. Además, para poder estudiar su rendimiento, se van a analizar brevemente el R-Square obtenido:"
            ]
        },
        {
            "cell_type": "code",
            "execution_count": 484,
            "metadata": {},
            "outputs": [
                {
                    "name": "stdout",
                    "output_type": "stream",
                    "text": [
                        " El R-Square obtenido para el conjunto de test ha sido: 0.7714\n"
                    ]
                }
            ],
            "source": [
                "# Se obtienen las predicciones para el conjunto de test:\n",
                "y_pred = model.predict(X_test_sc);\n",
                "\n",
                "# Se calculan el R2-Square:\n",
                "r2 = r2_score(y_test, y_pred);\n",
                "\n",
                "print(f\" El R-Square obtenido para el conjunto de test ha sido: {round(r2, 4)}\");"
            ]
        },
        {
            "cell_type": "markdown",
            "metadata": {},
            "source": [
                "En el conjunto de test se puede comprobar que un **77.14% de la variabilidad presente** en el coste del seguro puede ser **explicada por el modelo** a partir de las **tres variables independientes que se han empleado** . Este valor de la **R-Squared ha bajado** con respecto al **90.40% obtenido en el train set**, sin embargo no es una mala predicción y se podría decir que el **modelo tiene un buen rendimiento**.  "
            ]
        }
    ],
    "metadata": {
        "kernelspec": {
            "display_name": "Python 3",
            "language": "python",
            "name": "python3"
        },
        "language_info": {
            "codemirror_mode": {
                "name": "ipython",
                "version": 3
            },
            "file_extension": ".py",
            "mimetype": "text/x-python",
            "name": "python",
            "nbconvert_exporter": "python",
            "pygments_lexer": "ipython3",
            "version": "3.10.12"
        },
        "orig_nbformat": 4
    },
    "nbformat": 4,
    "nbformat_minor": 2
}
